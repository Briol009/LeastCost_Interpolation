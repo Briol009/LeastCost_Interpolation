{
 "cells": [
  {
   "cell_type": "code",
   "execution_count": 1,
   "metadata": {},
   "outputs": [],
   "source": [
    "import requests\n",
    "import shutil\n",
    "import pandas as pd\n",
    "import geopandas as gpd\n",
    "import os\n",
    "from shapely.geometry import Point"
   ]
  },
  {
   "cell_type": "code",
   "execution_count": 2,
   "metadata": {},
   "outputs": [
    {
     "name": "stderr",
     "output_type": "stream",
     "text": [
      "C:\\Users\\Track\\AppData\\Local\\ESRI\\conda\\envs\\arcgispro-py3-clone\\lib\\site-packages\\urllib3\\connectionpool.py:1056: InsecureRequestWarning: Unverified HTTPS request is being made to host 'ndawn.ndsu.nodak.edu'. Adding certificate verification is strongly advised. See: https://urllib3.readthedocs.io/en/1.26.x/advanced-usage.html#ssl-warnings\n",
      "  warnings.warn(\n"
     ]
    },
    {
     "name": "stdout",
     "output_type": "stream",
     "text": [
      "     Latitude  Longitude      Location      ddavt\n",
      "0    44.68768  -92.85985      Hastings  44.589867\n",
      "1    45.25334  -95.97341      Holloway  42.329367\n",
      "2    45.34399  -93.85014        Becker  43.386867\n",
      "3    45.71509  -95.17179      Westport  40.773833\n",
      "4    45.79384  -94.26182          Rice  42.007567\n",
      "..        ...        ...           ...        ...\n",
      "188  48.88351  -97.15029      Humboldt  36.049833\n",
      "189  48.89141  -98.62842         Wales  33.915000\n",
      "190  48.96375 -103.80585       Fortuna  36.064900\n",
      "191  48.98128 -102.52419        Portal  34.843933\n",
      "192  48.99821 -100.06389  Peace Garden  33.733700\n",
      "\n",
      "[193 rows x 4 columns]\n"
     ]
    },
    {
     "name": "stderr",
     "output_type": "stream",
     "text": [
      "C:\\Users\\Track\\AppData\\Local\\ESRI\\conda\\envs\\arcgispro-py3-clone\\lib\\site-packages\\urllib3\\connectionpool.py:1056: InsecureRequestWarning: Unverified HTTPS request is being made to host 'ndawn.ndsu.nodak.edu'. Adding certificate verification is strongly advised. See: https://urllib3.readthedocs.io/en/1.26.x/advanced-usage.html#ssl-warnings\n",
      "  warnings.warn(\n"
     ]
    },
    {
     "name": "stdout",
     "output_type": "stream",
     "text": [
      "     Latitude  Longitude      Location      ddmxt\n",
      "0    44.68768  -92.85985      Hastings  53.571967\n",
      "1    45.25334  -95.97341      Holloway  53.248867\n",
      "2    45.34399  -93.85014        Becker  52.395800\n",
      "3    45.71509  -95.17179      Westport  50.177100\n",
      "4    45.79384  -94.26182          Rice  51.065500\n",
      "..        ...        ...           ...        ...\n",
      "188  48.88351  -97.15029      Humboldt  44.040200\n",
      "189  48.89141  -98.62842         Wales  42.234733\n",
      "190  48.96375 -103.80585       Fortuna  44.430567\n",
      "191  48.98128 -102.52419        Portal  43.669833\n",
      "192  48.99821 -100.06389  Peace Garden  40.583233\n",
      "\n",
      "[193 rows x 4 columns]\n"
     ]
    },
    {
     "name": "stderr",
     "output_type": "stream",
     "text": [
      "C:\\Users\\Track\\AppData\\Local\\ESRI\\conda\\envs\\arcgispro-py3-clone\\lib\\site-packages\\urllib3\\connectionpool.py:1056: InsecureRequestWarning: Unverified HTTPS request is being made to host 'ndawn.ndsu.nodak.edu'. Adding certificate verification is strongly advised. See: https://urllib3.readthedocs.io/en/1.26.x/advanced-usage.html#ssl-warnings\n",
      "  warnings.warn(\n"
     ]
    },
    {
     "name": "stdout",
     "output_type": "stream",
     "text": [
      "     Latitude  Longitude      Location      ddmnt\n",
      "0    44.68768  -92.85985      Hastings  35.607333\n",
      "1    45.25334  -95.97341      Holloway  31.409433\n",
      "2    45.34399  -93.85014        Becker  34.377600\n",
      "3    45.71509  -95.17179      Westport  31.370133\n",
      "4    45.79384  -94.26182          Rice  32.949200\n",
      "..        ...        ...           ...        ...\n",
      "188  48.88351  -97.15029      Humboldt  28.059000\n",
      "189  48.89141  -98.62842         Wales  25.594833\n",
      "190  48.96375 -103.80585       Fortuna  27.698833\n",
      "191  48.98128 -102.52419        Portal  26.017533\n",
      "192  48.99821 -100.06389  Peace Garden  26.883767\n",
      "\n",
      "[193 rows x 4 columns]\n"
     ]
    }
   ],
   "source": [
    "NDAWN_Geofolder_new = r'C:\\Users\\Track\\OneDrive\\Documents\\ArcGIS\\Projects\\Lab3'\n",
    "if not os.path.exists(NDAWN_Geofolder_new):\n",
    "    os.mkdir(NDAWN_Geofolder_new)\n",
    "    \n",
    "#List for URL to iterate\n",
    "variable = ['ddavt', 'ddmxt', 'ddmnt']\n",
    "\n",
    "for Var in variable:\n",
    "    #retrieves CSV data from the NDAWN website for weather stations and date range\n",
    "    dataurl = fr'https://ndawn.ndsu.nodak.edu/table.csv?station=78&station=111&station=98&station=162&station=174&station=142&station=164&station=138&station=161&station=9&station=160&station=159&station=10&station=118&station=56&station=165&station=11&station=12&station=58&station=13&station=84&station=55&station=179&station=7&station=186&station=87&station=14&station=15&station=96&station=191&station=16&station=201&station=137&station=124&station=143&station=17&station=85&station=140&station=134&station=18&station=136&station=65&station=104&station=99&station=192&station=19&station=129&station=20&station=101&station=166&station=178&station=81&station=21&station=97&station=22&station=75&station=184&station=2&station=172&station=139&station=158&station=23&station=157&station=62&station=86&station=24&station=89&station=126&station=167&station=93&station=183&station=90&station=25&station=83&station=107&station=156&station=77&station=26&station=155&station=70&station=127&station=144&station=27&station=173&station=132&station=28&station=195&station=185&station=29&station=30&station=154&station=31&station=187&station=102&station=32&station=119&station=4&station=80&station=33&station=59&station=153&station=105&station=82&station=34&station=198&station=72&station=135&station=35&station=76&station=120&station=141&station=109&station=36&station=79&station=193&station=71&station=37&station=38&station=189&station=39&station=130&station=73&station=188&station=40&station=41&station=54&station=69&station=194&station=145&station=113&station=128&station=42&station=43&station=103&station=171&station=116&station=196&station=88&station=114&station=3&station=163&station=200&station=64&station=115&station=168&station=67&station=175&station=146&station=170&station=197&station=44&station=133&station=106&station=100&station=121&station=45&station=46&station=61&station=66&station=181&station=74&station=60&station=199&station=125&station=176&station=177&station=8&station=180&station=204&station=47&station=122&station=108&station=5&station=152&station=48&station=151&station=147&station=68&station=169&station=49&station=50&station=91&station=182&station=117&station=63&station=150&station=51&station=6&station=52&station=92&station=112&station=131&station=123&station=95&station=53&station=203&station=190&station=57&station=149&station=148&station=202&station=110&variable={Var}&ttype=daily&quick_pick=30_d'\n",
    "    NDAWNoutput = fr'C:\\Users\\Track\\OneDrive\\Documents\\ArcGIS\\Projects\\Lab3\\NDAWN_{Var}.csv'\n",
    "    NDAWN_Geo_Get = requests.get(dataurl, verify=False, stream=True) #get request funciton with url\n",
    "    #saving the downloaded data to the local file system.\n",
    "    with open(NDAWNoutput, 'wb') as file:\n",
    "        file.write(NDAWN_Geo_Get.content)\n",
    "   #Clean Data\n",
    "    NDAWNoutput = fr'C:\\Users\\Track\\OneDrive\\Documents\\ArcGIS\\Projects\\Lab3\\NDAWN_{Var}.csv'\n",
    "    \n",
    "    #The provided code reads a CSV file into a pandas DataFrame, skips the first 4 rows in the CSV file,and displays the DataFrame with new column names.\n",
    "    North_Dogg_Dataframe = pd.read_csv(fr'C:\\Users\\Track\\OneDrive\\Documents\\ArcGIS\\Projects\\Lab3\\NDAWN_{Var}.csv', skiprows=4)\n",
    "    new_names = ['Location', 'Latitude', 'Longitude', 'Elevation', 'Year', 'Month', 'Day', f'{Var}', 'Flag']\n",
    "    North_Dogg_Dataframe.columns = new_names\n",
    "    North_Dogg_Dataframe\n",
    "\n",
    "    # Group the data by the 'Location' column and calculate the average temperature for each location\n",
    "    monthly_avg_temp = North_Dogg_Dataframe.groupby(['Latitude', 'Longitude', 'Location'])[f'{Var}'].mean()\n",
    "\n",
    "    # Convert to DataFrame\n",
    "    monthly_avg_temp_df = monthly_avg_temp.reset_index()\n",
    "\n",
    "    # Save the result to a CSV file\n",
    "    output_csv = fr'C:\\Users\\Track\\OneDrive\\Documents\\ArcGIS\\Projects\\Lab3\\monthly_avg_temperatures{Var}.csv'\n",
    "    monthly_avg_temp_df.to_csv(output_csv, index=False)\n",
    "\n",
    "    # Print the result\n",
    "    print(monthly_avg_temp_df)\n",
    "\n",
    "    #creates pionts on map hehe\n",
    "    arcpy.management.XYTableToPoint(\n",
    "        in_table=fr\"C:\\Users\\Track\\OneDrive\\Documents\\ArcGIS\\Projects\\Lab3\\monthly_avg_temperatures{Var}.csv\",\n",
    "        out_feature_class=fr\"C:\\Users\\Track\\OneDrive\\Documents\\ArcGIS\\Projects\\Lab3\\Lab3.gdb\\monthly_avg_temperatures{Var}_XYTableToPoint\",\n",
    "        x_field=\"Longitude\",\n",
    "        y_field=\"Latitude\",\n",
    "        z_field=None,\n",
    "        coordinate_system='GEOGCS[\"GCS_WGS_1984\",DATUM[\"D_WGS_1984\",SPHEROID[\"WGS_1984\",6378137.0,298.257223563]],PRIMEM[\"Greenwich\",0.0],UNIT[\"Degree\",0.0174532925199433]];-400 -400 1000000000;-100000 10000;-100000 10000;8.98315284119521E-09;0.001;0.001;IsHighPrecision'\n",
    "    )    \n",
    "    "
   ]
  },
  {
   "cell_type": "code",
   "execution_count": 9,
   "metadata": {},
   "outputs": [
    {
     "data": {
      "text/html": [
       "<div class='gpresult'><h2>Messages</h2><div id='messages' data-messages='[\"Start Time: Thursday, November 9, 2023 2:22:11 PM\",\"SPHERICAL\\nLag size\\t\\t= nan(snan)\\nPartial sill\\t= nan(snan)\\nNugget\\t\\t= nan(snan)\\nMajor range\\t= nan(snan)\",\"Succeeded at Thursday, November 9, 2023 2:22:15 PM (Elapsed Time: 3.76 seconds)\"]' data-show='true'><div id = 'default' /></div></div>"
      ],
      "text/plain": [
       "<Result 'C:\\\\Users\\\\Track\\\\OneDrive\\\\Documents\\\\ArcGIS\\\\Projects\\\\Lab3\\\\Lab3.gdb\\\\KrigingAVG'>"
      ]
     },
     "execution_count": 9,
     "metadata": {},
     "output_type": "execute_result"
    }
   ],
   "source": [
    "#Kriging Minimum\n",
    "arcpy.ddd.Kriging(\n",
    "    in_point_features=\"monthly_avg_temperaturesddmnt_XYTableToPoint\",\n",
    "    z_field=\"ddmnt\",\n",
    "    out_surface_raster=r\"C:\\Users\\Track\\OneDrive\\Documents\\ArcGIS\\Projects\\Lab3\\Lab3.gdb\\KrigingMin\",\n",
    "    semiVariogram_props=\"Spherical # # # #\",\n",
    "    cell_size=0.0172421199999999,\n",
    "    search_radius=\"VARIABLE 12\",\n",
    "    out_variance_prediction_raster=None\n",
    ")\n",
    "#Kriging Max\n",
    "arcpy.ddd.Kriging(\n",
    "    in_point_features=\"monthly_avg_temperaturesddmxt_XYTableToPoint\",\n",
    "    z_field=\"ddmxt\",\n",
    "    out_surface_raster=r\"C:\\Users\\Track\\OneDrive\\Documents\\ArcGIS\\Projects\\Lab3\\Lab3.gdb\\KrigingMAX\",\n",
    "    semiVariogram_props=\"Spherical # # # #\",\n",
    "    cell_size=0.0172421199999999,\n",
    "    search_radius=\"VARIABLE 12\",\n",
    "    out_variance_prediction_raster=None\n",
    ")\n",
    "#Kriging Avg\n",
    "arcpy.ddd.Kriging(\n",
    "    in_point_features=\"monthly_avg_temperaturesddavt_XYTableToPoint\",\n",
    "    z_field=\"ddavt\",\n",
    "    out_surface_raster=r\"C:\\Users\\Track\\OneDrive\\Documents\\ArcGIS\\Projects\\Lab3\\Lab3.gdb\\KrigingAVG\",\n",
    "    semiVariogram_props=\"Spherical # # # #\",\n",
    "    cell_size=0.0172421199999999,\n",
    "    search_radius=\"VARIABLE 12\",\n",
    "    out_variance_prediction_raster=None\n",
    ")"
   ]
  },
  {
   "cell_type": "code",
   "execution_count": 10,
   "metadata": {},
   "outputs": [
    {
     "data": {
      "text/html": [
       "<div class='gpresult'><h2>Messages</h2><div id='messages' data-messages='[\"Start Time: Thursday, November 9, 2023 2:22:36 PM\",\"Bandwidth = 1.3052398156397294\",\"Succeeded at Thursday, November 9, 2023 2:22:46 PM (Elapsed Time: 9.81 seconds)\"]' data-show='true'><div id = 'default' /></div></div>"
      ],
      "text/plain": [
       "<Result ''>"
      ]
     },
     "execution_count": 10,
     "metadata": {},
     "output_type": "execute_result"
    }
   ],
   "source": [
    "#Diffusion Min\n",
    "arcpy.ga.DiffusionInterpolationWithBarriers(\n",
    "    in_features=\"monthly_avg_temperaturesddmnt_XYTableToPoint\",\n",
    "    z_field=\"ddmnt\",\n",
    "    out_ga_layer=None,\n",
    "    out_raster=r\"C:\\Users\\Track\\OneDrive\\Documents\\ArcGIS\\Projects\\Lab3\\Lab3.gdb\\DiffusionMin\",\n",
    "    cell_size=0.0172421199999999,\n",
    "    in_barrier_features=None,\n",
    "    bandwidth=None,\n",
    "    number_iterations=100,\n",
    "    weight_field=None,\n",
    "    in_additive_barrier_raster=None,\n",
    "    in_cumulative_barrier_raster=None,\n",
    "    in_flow_barrier_raster=None\n",
    ")\n",
    "#Diffusion Max\n",
    "arcpy.ga.DiffusionInterpolationWithBarriers(\n",
    "    in_features=\"monthly_avg_temperaturesddmxt_XYTableToPoint\",\n",
    "    z_field=\"ddmxt\",\n",
    "    out_ga_layer=None,\n",
    "    out_raster=r\"C:\\Users\\Track\\OneDrive\\Documents\\ArcGIS\\Projects\\Lab3\\Lab3.gdb\\DiffusionMAX\",\n",
    "    cell_size=0.0172421199999999,\n",
    "    in_barrier_features=None,\n",
    "    bandwidth=None,\n",
    "    number_iterations=100,\n",
    "    weight_field=None,\n",
    "    in_additive_barrier_raster=None,\n",
    "    in_cumulative_barrier_raster=None,\n",
    "    in_flow_barrier_raster=None\n",
    ")\n",
    "#Diffusion Average\n",
    "arcpy.ga.DiffusionInterpolationWithBarriers(\n",
    "    in_features=\"monthly_avg_temperaturesddavt_XYTableToPoint\",\n",
    "    z_field=\"ddavt\",\n",
    "    out_ga_layer=None,\n",
    "    out_raster=r\"C:\\Users\\Track\\OneDrive\\Documents\\ArcGIS\\Projects\\Lab3\\Lab3.gdb\\DiffusionAVG\",\n",
    "    cell_size=0.0172421199999999,\n",
    "    in_barrier_features=None,\n",
    "    bandwidth=None,\n",
    "    number_iterations=100,\n",
    "    weight_field=None,\n",
    "    in_additive_barrier_raster=None,\n",
    "    in_cumulative_barrier_raster=None,\n",
    "    in_flow_barrier_raster=None\n",
    ")"
   ]
  },
  {
   "cell_type": "code",
   "execution_count": 11,
   "metadata": {},
   "outputs": [
    {
     "data": {
      "text/html": [
       "<div class='gpresult'><h2>Messages</h2><div id='messages' data-messages='[\"Start Time: Thursday, November 9, 2023 2:24:13 PM\",\"Succeeded at Thursday, November 9, 2023 2:24:19 PM (Elapsed Time: 5.95 seconds)\"]' data-show='true'><div id = 'default' /></div></div>"
      ],
      "text/plain": [
       "<Result 'C:\\\\Users\\\\Track\\\\OneDrive\\\\Documents\\\\ArcGIS\\\\Projects\\\\Lab3\\\\Lab3.gdb\\\\IdwAVG'>"
      ]
     },
     "execution_count": 11,
     "metadata": {},
     "output_type": "execute_result"
    }
   ],
   "source": [
    "#IDW MIN\n",
    "arcpy.ddd.Idw(\n",
    "    in_point_features=\"monthly_avg_temperaturesddmnt_XYTableToPoint\",\n",
    "    z_field=\"ddmnt\",\n",
    "    out_raster=r\"C:\\Users\\Track\\OneDrive\\Documents\\ArcGIS\\Projects\\Lab3\\Lab3.gdb\\IdwMin\",\n",
    "    cell_size=0.0172421199999999,\n",
    "    power=2,\n",
    "    search_radius=\"VARIABLE 12\",\n",
    "    in_barrier_polyline_features=None\n",
    ")\n",
    "#IDW Max\n",
    "arcpy.ddd.Idw(\n",
    "    in_point_features=\"monthly_avg_temperaturesddmxt_XYTableToPoint\",\n",
    "    z_field=\"ddmxt\",\n",
    "    out_raster=r\"C:\\Users\\Track\\OneDrive\\Documents\\ArcGIS\\Projects\\Lab3\\Lab3.gdb\\IdwMAX\",\n",
    "    cell_size=0.0172421199999999,\n",
    "    power=2,\n",
    "    search_radius=\"VARIABLE 12\",\n",
    "    in_barrier_polyline_features=None\n",
    ")\n",
    "#IDW Avg\n",
    "arcpy.ddd.Idw(\n",
    "    in_point_features=\"monthly_avg_temperaturesddavt_XYTableToPoint\",\n",
    "    z_field=\"ddavt\",\n",
    "    out_raster=r\"C:\\Users\\Track\\OneDrive\\Documents\\ArcGIS\\Projects\\Lab3\\Lab3.gdb\\IdwAVG\",\n",
    "    cell_size=0.0172421199999999,\n",
    "    power=2,\n",
    "    search_radius=\"VARIABLE 12\",\n",
    "    in_barrier_polyline_features=None\n",
    ")"
   ]
  },
  {
   "cell_type": "code",
   "execution_count": null,
   "metadata": {},
   "outputs": [],
   "source": []
  }
 ],
 "metadata": {
  "kernelspec": {
   "display_name": "ArcGISPro",
   "language": "Python",
   "name": "python3"
  },
  "language_info": {
   "file_extension": ".py",
   "name": "python",
   "version": "3"
  }
 },
 "nbformat": 4,
 "nbformat_minor": 2
}
