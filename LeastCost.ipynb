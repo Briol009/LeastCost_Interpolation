{
 "cells": [
  {
   "cell_type": "code",
   "execution_count": 1,
   "metadata": {},
   "outputs": [
    {
     "name": "stdout",
     "output_type": "stream",
     "text": [
      "Landcover, elevation, and counties datasets have been downloaded and extracted into separate folders.\n"
     ]
    }
   ],
   "source": [
    "import requests\n",
    "import zipfile\n",
    "import os\n",
    "\n",
    "# Function to download and extract a dataset\n",
    "def download_and_extract(url, target_path, extract_path):\n",
    "    response = requests.get(url)\n",
    "    if response.status_code == 200:\n",
    "        with open(target_path, 'wb') as file:\n",
    "            file.write(response.content)\n",
    "        with zipfile.ZipFile(target_path, 'r') as zip_ref:\n",
    "            zip_ref.extractall(extract_path)\n",
    "\n",
    "# URLs for the datasets\n",
    "landcover_url = 'https://resources.gisdata.mn.gov/pub/gdrs/data/pub/us_mn_state_dnr/biota_landcover_nlcd_mn_2019/tif_biota_landcover_nlcd_mn_2019.zip'\n",
    "elevation_url = 'https://resources.gisdata.mn.gov/pub/gdrs/data/pub/us_mn_state_dnr/elev_30m_digital_elevation_model/fgdb_elev_30m_digital_elevation_model.zip'\n",
    "counties_url = 'https://resources.gisdata.mn.gov/pub/gdrs/data/pub/us_mn_state_dnr/bdry_counties_in_minnesota/shp_bdry_counties_in_minnesota.zip'\n",
    "\n",
    "# Directory where you want to save the datasets\n",
    "base_dir = r\"C:\\Users\\Track\\OneDrive\\Documents\\ArcGIS\\Projects\\Lab_Part2\"\n",
    "\n",
    "# Create new directories for unzipped data\n",
    "unzipped_landcover_dir = os.path.join(base_dir, 'Unzipped Landcover')\n",
    "unzipped_elevation_dir = os.path.join(base_dir, 'Unzipped Elevation')\n",
    "unzipped_counties_dir = os.path.join(base_dir, 'Unzipped Counties')\n",
    "\n",
    "# Ensure the new directories exist\n",
    "os.makedirs(unzipped_landcover_dir, exist_ok=True)\n",
    "os.makedirs(unzipped_elevation_dir, exist_ok=True)\n",
    "os.makedirs(unzipped_counties_dir, exist_ok=True)\n",
    "\n",
    "# Download and extract the landcover dataset\n",
    "landcover_path = os.path.join(base_dir, 'landcover.zip')\n",
    "download_and_extract(landcover_url, landcover_path, unzipped_landcover_dir)\n",
    "\n",
    "# Download and extract the elevation dataset\n",
    "elevation_path = os.path.join(base_dir, 'elevation.zip')\n",
    "download_and_extract(elevation_url, elevation_path, unzipped_elevation_dir)\n",
    "\n",
    "# Download and extract the counties dataset\n",
    "counties_path = os.path.join(base_dir, 'counties.zip')\n",
    "download_and_extract(counties_url, counties_path, unzipped_counties_dir)\n",
    "\n",
    "print(\"Landcover, elevation, and counties datasets have been downloaded and extracted into separate folders.\")\n"
   ]
  },
  {
   "cell_type": "code",
   "execution_count": 2,
   "metadata": {},
   "outputs": [
    {
     "name": "stdout",
     "output_type": "stream",
     "text": [
      "Data from 'Unzipped Landcover,' 'Unzipped Elevation,' and 'Unzipped Counties' has been merged into 'Merged Data'.\n"
     ]
    }
   ],
   "source": [
    "import os\n",
    "import shutil\n",
    "\n",
    "# Directory where the \"Unzipped Landcover,\" \"Unzipped Elevation,\" and \"Unzipped Counties\" folders are located\n",
    "base_dir = r\"C:\\Users\\Track\\OneDrive\\Documents\\ArcGIS\\Projects\\Lab_Part2\"\n",
    "\n",
    "# Define the new folder name\n",
    "merged_folder_name = 'Merged Data'  # Change this to the desired name\n",
    "\n",
    "# Create a directory for the merged data\n",
    "merged_folder = os.path.join(base_dir, merged_folder_name)\n",
    "os.makedirs(merged_folder, exist_ok=True)\n",
    "\n",
    "# List the subdirectories to merge\n",
    "subdirectories = ['Unzipped Landcover', 'Unzipped Elevation', 'Unzipped Counties']\n",
    "\n",
    "# Iterate through the subdirectories and copy their contents to the merged folder\n",
    "for subdirectory in subdirectories:\n",
    "    subdirectory_path = os.path.join(base_dir, subdirectory)\n",
    "    if os.path.exists(subdirectory_path):\n",
    "        for root, dirs, files in os.walk(subdirectory_path):\n",
    "            for file in files:\n",
    "                file_path = os.path.join(root, file)\n",
    "                shutil.copy(file_path, merged_folder)\n",
    "\n",
    "print(f\"Data from 'Unzipped Landcover,' 'Unzipped Elevation,' and 'Unzipped Counties' has been merged into '{merged_folder_name}'.\")\n"
   ]
  },
  {
   "cell_type": "code",
   "execution_count": 17,
   "metadata": {
    "scrolled": true
   },
   "outputs": [
    {
     "name": "stdout",
     "output_type": "stream",
     "text": [
      "Clipping Wabasha and Winona and Olmsted counties completed.\n"
     ]
    }
   ],
   "source": [
    "import arcpy\n",
    "\n",
    "# Set the workspace and input feature class\n",
    "arcpy.env.workspace = r\"C:\\Users\\Track\\OneDrive\\Documents\\ArcGIS\\Projects\\Lab_Part2\\Lab_Part2.gdb\"\n",
    "input_feature_class = \"mn_county_boundaries\"\n",
    "\n",
    "# Define the SQL expression to select features with CTY_Name values of 'Wabasha' or 'Winona' or 'Olmsted'\n",
    "sql_expression = \"CTY_Name IN ('Wabasha', 'Winona', 'Olmsted')\"\n",
    "\n",
    "# Create a feature layer with the selection\n",
    "arcpy.management.MakeFeatureLayer(input_feature_class, \"Selected_Counties\", where_clause=sql_expression)\n",
    "\n",
    "# Specify the output feature class for the selected features\n",
    "output_feature_class = r\"C:\\Users\\Track\\OneDrive\\Documents\\ArcGIS\\Projects\\Lab_Part2\\Lab_Part2.gdb\\mn_county_boundaries_Clip\"\n",
    "\n",
    "# Use the Clip tool to clip the selected features to themselves\n",
    "arcpy.analysis.Clip(\n",
    "    in_features=\"Selected_Counties\",\n",
    "    clip_features=\"Selected_Counties\",\n",
    "    out_feature_class=output_feature_class,\n",
    "    cluster_tolerance=None\n",
    ")\n",
    "# Clear the selection\n",
    "arcpy.management.SelectLayerByAttribute(\"Selected_Counties\", \"CLEAR_SELECTION\")\n",
    "\n",
    "print(\"Clipping Wabasha and Winona and Olmsted counties completed.\")"
   ]
  },
  {
   "cell_type": "code",
   "execution_count": 18,
   "metadata": {},
   "outputs": [
    {
     "name": "stdout",
     "output_type": "stream",
     "text": [
      "Clipping and selecting Wabasha and Winona counties completed.\n"
     ]
    }
   ],
   "source": [
    "import arcpy\n",
    "# Set the workspace and input feature class\n",
    "arcpy.env.workspace = r\"C:\\Users\\Track\\OneDrive\\Documents\\ArcGIS\\Projects\\Lab_Part2\\Lab_Part2.gdb\"\n",
    "input_feature_class = \"mn_county_boundaries\"\n",
    "\n",
    "# Define the SQL expression to select features with CTY_Name values of 'Wabasha' or 'Winona'\n",
    "sql_expression = \"CTY_Name IN ('Wabasha', 'Winona', 'Olmsted')\"\n",
    "\n",
    "# Create a feature layer with the selection\n",
    "arcpy.management.MakeFeatureLayer(input_feature_class, \"Selected_Counties\", where_clause=sql_expression)\n",
    "\n",
    "# Specify the output feature class for the selected features\n",
    "output_feature_class = r\"C:\\Users\\Track\\OneDrive\\Documents\\ArcGIS\\Projects\\Lab_Part2\\Lab_Part2.gdb\\mn_county_boundaries_Clip\"\n",
    "\n",
    "# Clear the selection\n",
    "arcpy.management.SelectLayerByAttribute(\"Selected_Counties\", \"CLEAR_SELECTION\")\n",
    "\n",
    "print(\"Clipping and selecting Wabasha and Winona counties completed.\")"
   ]
  },
  {
   "cell_type": "code",
   "execution_count": null,
   "metadata": {},
   "outputs": [],
   "source": [
    "#Clipped it out to counties\n",
    "out_raster = arcpy.sa.ExtractByMask(\n",
    "    in_raster=\"NLCD_2019_Land_Cover.tif\",\n",
    "    in_mask_data=\"Selected_Counties\",\n",
    "    extraction_area=\"INSIDE\",\n",
    "    analysis_extent='189775.332 4816305.37 761655.0734 5472427.737 PROJCS[\"NAD_1983_UTM_Zone_15N\",GEOGCS[\"GCS_North_American_1983\",DATUM[\"D_North_American_1983\",SPHEROID[\"GRS_1980\",6378137.0,298.257222101]],PRIMEM[\"Greenwich\",0.0],UNIT[\"Degree\",0.0174532925199433]],PROJECTION[\"Transverse_Mercator\"],PARAMETER[\"False_Easting\",500000.0],PARAMETER[\"False_Northing\",0.0],PARAMETER[\"Central_Meridian\",-93.0],PARAMETER[\"Scale_Factor\",0.9996],PARAMETER[\"Latitude_Of_Origin\",0.0],UNIT[\"Meter\",1.0]]'\n",
    ")\n",
    "out_raster.save(r\"C:\\Users\\Track\\OneDrive\\Documents\\ArcGIS\\Projects\\Lab_Part2\\Lab_Part2.gdb\\Extract_NLCD3\")"
   ]
  },
  {
   "cell_type": "code",
   "execution_count": null,
   "metadata": {},
   "outputs": [],
   "source": [
    "#Clipped it out to counties\n",
    "out_raster = arcpy.sa.ExtractByMask(\n",
    "    in_raster=\"digital_elevation_model_30m\",\n",
    "    in_mask_data=\"Selected_Counties\",\n",
    "    extraction_area=\"INSIDE\",\n",
    "    analysis_extent='189775.332039 4816305.370038 761655.0734 5472427.737 PROJCS[\"NAD_1983_UTM_Zone_15N\",GEOGCS[\"GCS_North_American_1983\",DATUM[\"D_North_American_1983\",SPHEROID[\"GRS_1980\",6378137.0,298.257222101]],PRIMEM[\"Greenwich\",0.0],UNIT[\"Degree\",0.0174532925199433]],PROJECTION[\"Transverse_Mercator\"],PARAMETER[\"False_Easting\",500000.0],PARAMETER[\"False_Northing\",0.0],PARAMETER[\"Central_Meridian\",-93.0],PARAMETER[\"Scale_Factor\",0.9996],PARAMETER[\"Latitude_Of_Origin\",0.0],UNIT[\"Meter\",1.0]]'\n",
    ")\n",
    "out_raster.save(r\"C:\\Users\\Track\\OneDrive\\Documents\\ArcGIS\\Projects\\Lab_Part2\\Lab_Part2.gdb\\Extract_digi2\")"
   ]
  },
  {
   "cell_type": "code",
   "execution_count": 8,
   "metadata": {},
   "outputs": [
    {
     "data": {
      "text/html": [
       "<div class='gpresult'><h2>Messages</h2><div id='messages' data-messages='[\"Start Time: Thursday, October 12, 2023 3:12:01 PM\",\"No compatible GPU device has been detected.\",\"Succeeded at Thursday, October 12, 2023 3:12:26 PM (Elapsed Time: 25.04 seconds)\"]' data-show='true'><div id = 'default' /></div></div>"
      ],
      "text/plain": [
       "<Result 'C:\\\\Users\\\\Track\\\\OneDrive\\\\Documents\\\\ArcGIS\\\\Projects\\\\Lab_Part2\\\\Lab_Part2.gdb\\\\Slope_Extrac1'>"
      ]
     },
     "execution_count": 8,
     "metadata": {},
     "output_type": "execute_result"
    }
   ],
   "source": [
    "#identifies Slopes\n",
    "out_raster = arcpy.sa.Slope(\n",
    "    in_raster=\"Extract_digi2\",\n",
    "    output_measurement=\"DEGREE\",\n",
    "    z_factor=1,\n",
    "    method=\"PLANAR\",\n",
    "    z_unit=\"METER\",\n",
    "    analysis_target_device=\"GPU_THEN_CPU\"\n",
    ")\n",
    "out_raster.save(r\"C:\\Users\\Track\\OneDrive\\Documents\\ArcGIS\\Projects\\Lab_Part2\\Lab_Part2.gdb\\Slope_Extrac2\")"
   ]
  },
  {
   "cell_type": "code",
   "execution_count": null,
   "metadata": {},
   "outputs": [],
   "source": [
    "#Created Piont features for Dorys Home and North Picnic Area\n",
    "arcpy.management.CreateFeatureclass(\n",
    "    out_path=r\"C:\\Users\\Track\\OneDrive\\Documents\\ArcGIS\\Projects\\Lab_Part2\\Lab_Part2.gdb\",\n",
    "    out_name=\"Dory\",\n",
    "    geometry_type=\"POINT\",\n",
    "    template=None,\n",
    "    has_m=\"DISABLED\",\n",
    "    has_z=\"DISABLED\",\n",
    "    spatial_reference='PROJCS[\"NAD_1983_UTM_Zone_15N\",GEOGCS[\"GCS_North_American_1983\",DATUM[\"D_North_American_1983\",SPHEROID[\"GRS_1980\",6378137.0,298.257222101]],PRIMEM[\"Greenwich\",0.0],UNIT[\"Degree\",0.0174532925199433]],PROJECTION[\"Transverse_Mercator\"],PARAMETER[\"False_Easting\",500000.0],PARAMETER[\"False_Northing\",0.0],PARAMETER[\"Central_Meridian\",-93.0],PARAMETER[\"Scale_Factor\",0.9996],PARAMETER[\"Latitude_Of_Origin\",0.0],UNIT[\"Meter\",1.0]];-5120900 -9998100 10000;-100000 10000;-100000 10000;0.001;0.001;0.001;IsHighPrecision',\n",
    "    config_keyword=\"\",\n",
    "    spatial_grid_1=0,\n",
    "    spatial_grid_2=0,\n",
    "    spatial_grid_3=0,\n",
    "    out_alias=\"\"\n",
    ")"
   ]
  },
  {
   "cell_type": "code",
   "execution_count": 20,
   "metadata": {},
   "outputs": [],
   "source": [
    "#reclassified slope\n",
    "out_raster = arcpy.sa.Reclassify(\n",
    "    in_raster=\"Slope_Extrac2\",\n",
    "    reclass_field=\"VALUE\",\n",
    "    remap=\"0 3.113066 1;3.113066 7.160053 2;7.160053 13.074879 3;13.074879 26.461065 4;26.461065 79.383194 5\",\n",
    "    missing_values=\"DATA\"\n",
    ")\n",
    "out_raster.save(r\"C:\\Users\\Track\\OneDrive\\Documents\\ArcGIS\\Projects\\Lab_Part2\\Lab_Part2.gdb\\Reclass_Slop6\")"
   ]
  },
  {
   "cell_type": "code",
   "execution_count": null,
   "metadata": {},
   "outputs": [],
   "source": [
    "#reclassified Landcover\n",
    "out_raster = arcpy.sa.Reclassify(\n",
    "    in_raster=\"Extract_NLCD3\",\n",
    "    reclass_field=\"NLCD_Land\",\n",
    "    remap=\"'Open Water' 5;'Developed, Open Space' 1;'Developed, Low Intensity' 1;'Developed, Medium Intensity' 1;'Developed, High Intensity' 5;'Barren Land' 1;'Deciduous Forest' 1;'Evergreen Forest' 1;'Mixed Forest' 1;Shrub/Scrub 1;Herbaceous 1;Hay/Pasture 4;'Cultivated Crops' 5;'Woody Wetlands' 3;'Emergent Herbaceous Wetlands' 1\",\n",
    "    missing_values=\"DATA\"\n",
    ")\n",
    "out_raster.save(r\"C:\\Users\\Track\\OneDrive\\Documents\\ArcGIS\\Projects\\Lab_Part2\\Lab_Part2.gdb\\Reclass_Extr3\")"
   ]
  },
  {
   "cell_type": "code",
   "execution_count": 5,
   "metadata": {},
   "outputs": [],
   "source": [
    "#changes weights\n",
    "import arcpy\n",
    "import os\n",
    "\n",
    "# Set the workspace where your rasters are located\n",
    "arcpy.env.workspace = r\"C:\\Users\\Track\\OneDrive\\Documents\\ArcGIS\\Projects\\Lab_Part2\\Lab_Part2.gdb\"\n",
    "output_folder = r\"C:\\Users\\Track\\OneDrive\\Documents\\ArcGIS\\Projects\\Lab_Part2\\Lab_Part2.gdb\"\n",
    "\n",
    "# List of input raster names\n",
    "input_raster_names = [\"Reclass_Slop6\", \"Reclass_Extr3\"]\n",
    "\n",
    "# Define weight scenarios\n",
    "weight_scenarios = [0.25, 0.5]\n",
    "\n",
    "# Nested loop to process each combination\n",
    "for raster1_name in input_raster_names:\n",
    "    for raster2_name in input_raster_names:\n",
    "        for weight in weight_scenarios:\n",
    "            if weight == 0.5:\n",
    "                output_name = f\"LandUse_Slope_EqualWeight\"\n",
    "            else:\n",
    "                output_name = f\"{raster1_name}_w{int(weight * 100)}_{raster2_name}_w{int((1 - weight) * 100)}\"\n",
    "            #Skip if loop wants to pair the same rasters together\n",
    "            if raster1_name == raster2_name:\n",
    "                continue\n",
    "\n",
    "            # Paths to Rasters\n",
    "            raster1 = os.path.join(arcpy.env.workspace, raster1_name)\n",
    "            raster2 = os.path.join(arcpy.env.workspace, raster2_name)\n",
    "\n",
    "            # Create raster combinations\n",
    "            raster1_weighted = arcpy.Raster(raster1) * weight\n",
    "            raster2_weighted = arcpy.Raster(raster2) * (1 - weight)\n",
    "            output_raster = raster1_weighted + raster2_weighted\n",
    "\n",
    "            # Save the output raster\n",
    "            output_raster.save(os.path.join(output_folder, output_name))"
   ]
  },
  {
   "cell_type": "code",
   "execution_count": null,
   "metadata": {},
   "outputs": [],
   "source": [
    "#Path For Equal Weight Scenario\n",
    "arcpy.intelligence.LeastCostPath(\n",
    "    in_cost_surface=\"LandUse_Slope_EqualWeight\",\n",
    "    in_start_point=\"Least Cost Path Input Starting Point (Points) 2\",\n",
    "    in_end_point=\"Least Cost Path Input Ending Point (Points) 2\",\n",
    "    out_path_feature_class=r\"C:\\Users\\Track\\OneDrive\\Documents\\ArcGIS\\Projects\\Lab_Part2\\Lab_Part2.gdb\\LandUse_Slope_EqualWeight_LeastCostPath2\",\n",
    "    handle_zeros=\"NO_DATA\"\n",
    ")"
   ]
  },
  {
   "cell_type": "code",
   "execution_count": null,
   "metadata": {},
   "outputs": [],
   "source": [
    "#Path for Slope Weight Scenario\n",
    "arcpy.intelligence.LeastCostPath(\n",
    "    in_cost_surface=\"Reclass_Extr3_w25_Reclass_Slop6_w75\",\n",
    "    in_start_point=\"Least Cost Path Input Starting Point (Points)\",\n",
    "    in_end_point=\"Least Cost Path Input Ending Point (Points)\",\n",
    "    out_path_feature_class=r\"C:\\Users\\Track\\OneDrive\\Documents\\ArcGIS\\Projects\\Lab_Part2\\Lab_Part2.gdb\\Reclass_Extr3_w25_Reclass_Slop6_w75_LeastCostPath\",\n",
    "    handle_zeros=\"NO_DATA\"\n",
    ")"
   ]
  },
  {
   "cell_type": "code",
   "execution_count": null,
   "metadata": {},
   "outputs": [],
   "source": [
    "#Path for Landcover Weight Scenario\n",
    "arcpy.intelligence.LeastCostPath(\n",
    "    in_cost_surface=\"Reclass_Slop6_w25_Reclass_Extr3_w75\",\n",
    "    in_start_point=\"Least Cost Path Input Starting Point (Points)\",\n",
    "    in_end_point=\"Least Cost Path Input Ending Point (Points)\",\n",
    "    out_path_feature_class=r\"C:\\Users\\Track\\OneDrive\\Documents\\ArcGIS\\Projects\\Lab_Part2\\Lab_Part2.gdb\\Reclass_Slop6_w25_Reclass_Extr3_w75_LeastCostPath\",\n",
    "    handle_zeros=\"NO_DATA\"\n",
    ")"
   ]
  }
 ],
 "metadata": {
  "kernelspec": {
   "display_name": "ArcGISPro",
   "language": "Python",
   "name": "python3"
  },
  "language_info": {
   "file_extension": ".py",
   "name": "python",
   "version": "3"
  }
 },
 "nbformat": 4,
 "nbformat_minor": 2
}
